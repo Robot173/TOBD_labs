{
 "cells": [
  {
   "cell_type": "code",
   "execution_count": 1,
   "metadata": {},
   "outputs": [
    {
     "name": "stdout",
     "output_type": "stream",
     "text": [
      "Populating the interactive namespace from numpy and matplotlib\n"
     ]
    }
   ],
   "source": [
    "%pylab inline\n",
    "from numpy.random import choice, randint"
   ]
  },
  {
   "cell_type": "code",
   "execution_count": 2,
   "metadata": {
    "collapsed": true
   },
   "outputs": [
    {
     "name": "stdout",
     "output_type": "stream",
     "text": [
      "A\n",
      "B\n",
      "C\n",
      "D\n",
      "E\n",
      "F\n",
      "G\n",
      "H\n",
      "I\n",
      "J\n",
      "K\n",
      "L\n",
      "M\n",
      "N\n",
      "O\n",
      "P\n",
      "Q\n",
      "R\n",
      "S\n",
      "T\n",
      "U\n",
      "V\n",
      "W\n",
      "X\n",
      "Y\n",
      "Z\n"
     ]
    }
   ],
   "source": [
    "for a in range(ord('A'), ord('Z') + 1):\n",
    "    print(chr(a))"
   ]
  },
  {
   "cell_type": "code",
   "execution_count": 3,
   "metadata": {},
   "outputs": [],
   "source": [
    "symbols = [chr(a) for a in range(ord('A'), ord('Z') + 1)] + [chr(a) for a in range(ord('a'), ord('z') + 1)]"
   ]
  },
  {
   "cell_type": "code",
   "execution_count": 4,
   "metadata": {},
   "outputs": [
    {
     "name": "stdout",
     "output_type": "stream",
     "text": [
      "OxcuvI\n",
      "zdyjKd\n",
      "Qqozh\n",
      "eowm\n",
      "FdxPn\n",
      "dqc\n",
      "Xkb\n",
      "UDYde\n",
      "JiS\n",
      "vkgJJ\n"
     ]
    }
   ],
   "source": [
    "for i in range(10):\n",
    "    a = \"\".join(random.choice(symbols, random.randint(3,7)))\n",
    "    print(a)"
   ]
  },
  {
   "cell_type": "code",
   "execution_count": 5,
   "metadata": {},
   "outputs": [],
   "source": [
    "import io"
   ]
  },
  {
   "cell_type": "code",
   "execution_count": 11,
   "metadata": {},
   "outputs": [
    {
     "name": "stdout",
     "output_type": "stream",
     "text": [
      "Wall time: 1min\n"
     ]
    }
   ],
   "source": [
    "%%time\n",
    "with open(\"inputv2.txt\", 'w') as out:\n",
    "    for i in range(200):\n",
    "        a = \"\"\n",
    "        for j in range(10000):\n",
    "            a += \"\".join(random.choice(symbols, random.randint(3,7))) + '\\n'\n",
    "        out.write(a)"
   ]
  },
  {
   "cell_type": "code",
   "execution_count": 12,
   "metadata": {},
   "outputs": [
    {
     "name": "stdout",
     "output_type": "stream",
     "text": [
      "Wall time: 57.6 s\n"
     ]
    }
   ],
   "source": [
    "%%time\n",
    "with open(\"inputv3.txt\", 'w') as out:\n",
    "    for i in range(200):\n",
    "        with io.StringIO() as a:\n",
    "            for j in range(10000):\n",
    "                a.write(\"\".join(random.choice(symbols, random.randint(3,7))))\n",
    "                a.write('\\n')\n",
    "            out.write(a.getvalue())"
   ]
  },
  {
   "cell_type": "code",
   "execution_count": 13,
   "metadata": {},
   "outputs": [
    {
     "name": "stdout",
     "output_type": "stream",
     "text": [
      "Wall time: 56.8 s\n"
     ]
    }
   ],
   "source": [
    "%%time\n",
    "with open(\"inputv4.txt\", 'w') as out:\n",
    "    for i in range(200):\n",
    "        res = []\n",
    "        for i in range(10000):\n",
    "            res.extend(random.choice(symbols, random.randint(3,7)))\n",
    "            res += '\\n'\n",
    "        out.write(''.join(res))"
   ]
  },
  {
   "cell_type": "code",
   "execution_count": 14,
   "metadata": {},
   "outputs": [
    {
     "name": "stdout",
     "output_type": "stream",
     "text": [
      "Wall time: 53.9 s\n"
     ]
    }
   ],
   "source": [
    "%%time\n",
    "with open(\"inputv5.txt\", 'w') as out:\n",
    "    for i in range(200):\n",
    "        res = [''] * 10000\n",
    "        for i in range(10000):\n",
    "             res[i] = ''.join(random.choice(symbols, random.randint(3,7)))\n",
    "        out.write('\\n'.join(res))"
   ]
  },
  {
   "cell_type": "code",
   "execution_count": 15,
   "metadata": {},
   "outputs": [
    {
     "name": "stdout",
     "output_type": "stream",
     "text": [
      "Wall time: 59.9 s\n"
     ]
    }
   ],
   "source": [
    "%%time\n",
    "with open(\"inputv6.txt\", 'wb') as out:\n",
    "    for i in range(200):\n",
    "        with io.StringIO() as a:\n",
    "            for j in range(10000):\n",
    "                a.write(\"\".join(choice(symbols, randint(3,7))))\n",
    "                a.write('\\n')\n",
    "            out.write(a.getvalue().encode())"
   ]
  },
  {
   "cell_type": "code",
   "execution_count": 21,
   "metadata": {},
   "outputs": [
    {
     "name": "stdout",
     "output_type": "stream",
     "text": [
      "Wall time: 51.7 s\n"
     ]
    }
   ],
   "source": [
    "%%time\n",
    "with open(\"inputv7.txt\", 'wb') as out:\n",
    "    for i in range(20):\n",
    "        with io.StringIO() as a:\n",
    "            a.truncate(700000)\n",
    "            for j in range(100000):\n",
    "                a.write(\"\".join(choice(symbols, randint(3,7))))\n",
    "                a.write('\\n')\n",
    "            a.truncate(a.tell())\n",
    "            out.write(a.getvalue().encode())"
   ]
  },
  {
   "cell_type": "code",
   "execution_count": 22,
   "metadata": {},
   "outputs": [
    {
     "name": "stdout",
     "output_type": "stream",
     "text": [
      "Wall time: 54.3 s\n"
     ]
    }
   ],
   "source": [
    "%%time\n",
    "with open(\"inputv8.txt\", 'wb') as out:\n",
    "    for i in range(2000):\n",
    "        with io.StringIO() as a:\n",
    "            a.truncate(7000)\n",
    "            for j in range(1000):\n",
    "                a.write(\"\".join(choice(symbols, randint(3,7))))\n",
    "                a.write('\\n')\n",
    "            a.truncate(a.tell())\n",
    "            out.write(a.getvalue().encode())"
   ]
  },
  {
   "cell_type": "code",
   "execution_count": null,
   "metadata": {},
   "outputs": [],
   "source": [
    "with open(\"inputv10.txt\", 'wb') as out:\n",
    "    with io.StringIO() as a:\n",
    "        a.truncate(70000)\n",
    "        for i in range(200000):\n",
    "            a.seek(0)\n",
    "            for j in range(10000):\n",
    "                a.write(\"\".join(choice(symbols, randint(3,7))))\n",
    "                a.write('\\n')\n",
    "            out.write(a.getvalue()[:a.tell()].encode())"
   ]
  },
  {
   "cell_type": "code",
   "execution_count": null,
   "metadata": {},
   "outputs": [],
   "source": [
    "res = []\n",
    "for i in range(10000):\n",
    "    res.extend(random.choice(symbols, random.randint(3,7)))\n",
    "    res += '\\n'\n",
    "out.write(''.join(res))"
   ]
  },
  {
   "cell_type": "code",
   "execution_count": 38,
   "metadata": {},
   "outputs": [
    {
     "data": {
      "text/plain": [
       "['A', 'O', 'r', 'D', 'm', 'M', '\\n']"
      ]
     },
     "execution_count": 38,
     "metadata": {},
     "output_type": "execute_result"
    }
   ],
   "source": [
    "res = []\n",
    "res.extend(random.choice(symbols, random.randint(3,7)))\n",
    "res += '\\n'\n",
    "res"
   ]
  },
  {
   "cell_type": "code",
   "execution_count": null,
   "metadata": {},
   "outputs": [],
   "source": []
  }
 ],
 "metadata": {
  "kernelspec": {
   "display_name": "Python 3",
   "language": "python",
   "name": "python3"
  },
  "language_info": {
   "codemirror_mode": {
    "name": "ipython",
    "version": 3
   },
   "file_extension": ".py",
   "mimetype": "text/x-python",
   "name": "python",
   "nbconvert_exporter": "python",
   "pygments_lexer": "ipython3",
   "version": "3.7.3"
  }
 },
 "nbformat": 4,
 "nbformat_minor": 2
}
